{
 "cells": [
  {
   "cell_type": "code",
   "execution_count": 185,
   "metadata": {},
   "outputs": [],
   "source": [
    "import torch\n",
    "import torch.nn as nn\n",
    "import torch.optim as optim\n",
    "\n",
    "import torchvision.datasets as dset\n",
    "\n",
    "from torchvision.transforms import ToTensor\n",
    "from torch.utils.data import DataLoader, Dataset"
   ]
  },
  {
   "cell_type": "code",
   "execution_count": 186,
   "metadata": {},
   "outputs": [],
   "source": [
    "device = 'cuda' if torch.cuda.is_available() else 'cpu'"
   ]
  },
  {
   "cell_type": "code",
   "execution_count": 187,
   "metadata": {},
   "outputs": [],
   "source": [
    "train = dset.MNIST('./MNIST_data/', download=False, train=True, transform=ToTensor())\n",
    "test = dset.MNIST('./MNIST_data/', download=False, train=False, transform=ToTensor())"
   ]
  },
  {
   "cell_type": "code",
   "execution_count": 188,
   "metadata": {},
   "outputs": [],
   "source": [
    "batch_size = 32\n",
    "\n",
    "input_dim = 28\n",
    "hidden_dim = 100\n",
    "layer_num = 1\n",
    "output_dim = 10\n",
    "\n",
    "learning_rate = 0.0001\n",
    "num_epoch = 10"
   ]
  },
  {
   "cell_type": "code",
   "execution_count": 189,
   "metadata": {},
   "outputs": [],
   "source": [
    "class RNNModel(nn.Module):\n",
    "    def __init__(self, input_dim, hidden_dim, num_layers, outout_dim):\n",
    "        super().__init__()\n",
    "        self.input_dim = input_dim\n",
    "        self.hidden_dim = hidden_dim\n",
    "        self.num_layers = num_layers\n",
    "        self.outout_dim = outout_dim\n",
    "        \n",
    "        self.rnn = nn.RNN(input_size=input_dim, \n",
    "                          hidden_size=hidden_dim,\n",
    "                          num_layers=num_layers,\n",
    "                         batch_first=True,\n",
    "                         nonlinearity='relu').to(device)\n",
    "        \n",
    "        self.fc = nn.Linear(in_features=hidden_dim,\n",
    "                            out_features=output_dim).to(device)\n",
    "        \n",
    "    def forward(self, x):\n",
    "        out, hn = self.rnn(x)\n",
    "        out = out[:, -1, :]\n",
    "        out = self.fc(out)\n",
    "        \n",
    "        \n",
    "        return out"
   ]
  },
  {
   "cell_type": "code",
   "execution_count": 190,
   "metadata": {},
   "outputs": [],
   "source": [
    "model = RNNModel(input_dim=input_dim,\n",
    "                hidden_dim=hidden_dim,\n",
    "                num_layers=layer_num,\n",
    "                outout_dim=output_dim)"
   ]
  },
  {
   "cell_type": "code",
   "execution_count": 191,
   "metadata": {},
   "outputs": [],
   "source": [
    "train_loader = DataLoader(dataset=train, batch_size=batch_size,\n",
    "                         shuffle=True, drop_last=True)"
   ]
  },
  {
   "cell_type": "code",
   "execution_count": 192,
   "metadata": {},
   "outputs": [],
   "source": [
    "criterion = nn.CrossEntropyLoss().to(device)\n",
    "optimizer = optim.Adam(model.parameters(), lr=learning_rate)"
   ]
  },
  {
   "cell_type": "code",
   "execution_count": 193,
   "metadata": {},
   "outputs": [
    {
     "name": "stdout",
     "output_type": "stream",
     "text": [
      "Epoch: 0, Loss: 1.0409157276153564, Acc: 0.5449000000953674\n",
      "Epoch: 1, Loss: 0.7193273305892944, Acc: 0.696399986743927\n",
      "Epoch: 2, Loss: 0.7019522190093994, Acc: 0.7584999799728394\n",
      "Epoch: 3, Loss: 0.5383251309394836, Acc: 0.7882000207901001\n",
      "Epoch: 4, Loss: 0.9767993688583374, Acc: 0.7858999967575073\n",
      "Epoch: 5, Loss: 0.27250832319259644, Acc: 0.8119999766349792\n",
      "Epoch: 6, Loss: 0.08336420357227325, Acc: 0.815500020980835\n",
      "Epoch: 7, Loss: 0.285937637090683, Acc: 0.8133000135421753\n",
      "Epoch: 8, Loss: 0.2850656807422638, Acc: 0.8174999952316284\n",
      "Epoch: 9, Loss: 0.27429574728012085, Acc: 0.7720999717712402\n"
     ]
    }
   ],
   "source": [
    "%timeit\n",
    "for epoch in range(num_epoch):\n",
    "    for idx, sample in enumerate(train_loader):\n",
    "        x, y = sample\n",
    "        x = x.squeeze()\n",
    "        x = x.to(device)\n",
    "        y = y.to(device)\n",
    "        optimizer.zero_grad()\n",
    "        \n",
    "        prediction = model(x)\n",
    "        loss = criterion(prediction, y)\n",
    "        \n",
    "        loss.backward()\n",
    "        optimizer.step()\n",
    "    \n",
    "    x = test.data.to(device)\n",
    "    accuracy = (torch.argmax(model(x.float()), dim=1) == test.targets.to(device)).cpu().float().mean()    \n",
    "    print(f'Epoch: {epoch}, Loss: {loss}, Acc: {accuracy}')"
   ]
  },
  {
   "cell_type": "code",
   "execution_count": null,
   "metadata": {},
   "outputs": [],
   "source": []
  },
  {
   "cell_type": "code",
   "execution_count": null,
   "metadata": {},
   "outputs": [],
   "source": []
  }
 ],
 "metadata": {
  "kernelspec": {
   "display_name": "Python 3.7.4 64-bit ('base': conda)",
   "language": "python",
   "name": "python37464bitbaseconda756085e274f94795b589d8766beee210"
  },
  "language_info": {
   "codemirror_mode": {
    "name": "ipython",
    "version": 3
   },
   "file_extension": ".py",
   "mimetype": "text/x-python",
   "name": "python",
   "nbconvert_exporter": "python",
   "pygments_lexer": "ipython3",
   "version": "3.7.7"
  }
 },
 "nbformat": 4,
 "nbformat_minor": 4
}
