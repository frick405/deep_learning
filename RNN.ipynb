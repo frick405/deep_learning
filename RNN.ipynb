{
 "cells": [
  {
   "cell_type": "code",
   "execution_count": 2,
   "metadata": {},
   "outputs": [],
   "source": [
    "import torch\n",
    "import torch.nn as nn\n",
    "import torch.optim as optim\n",
    "\n",
    "import matplotlib.pyplot as plt"
   ]
  },
  {
   "cell_type": "code",
   "execution_count": 3,
   "metadata": {},
   "outputs": [],
   "source": [
    "inputs = torch.Tensor(1, 10, 5)"
   ]
  },
  {
   "cell_type": "code",
   "execution_count": 10,
   "metadata": {},
   "outputs": [],
   "source": [
    "cell = nn.RNN(5, 8, batch_first=True)"
   ]
  },
  {
   "cell_type": "code",
   "execution_count": 12,
   "metadata": {},
   "outputs": [],
   "source": [
    "outputs, _status = cell(inputs)"
   ]
  },
  {
   "cell_type": "code",
   "execution_count": 20,
   "metadata": {},
   "outputs": [
    {
     "data": {
      "text/plain": [
       "tensor([[[ 0.0000e+00,  0.0000e+00,  0.0000e+00,  0.0000e+00,  0.0000e+00],\n",
       "         [ 0.0000e+00, -1.0020e+09,  6.6842e-43,  1.1210e-44,  0.0000e+00],\n",
       "         [ 7.0745e+35,  4.5915e-41,  5.7397e-42,  0.0000e+00,  1.1210e-44],\n",
       "         [ 0.0000e+00,  7.0967e+35,  4.5915e-41,  2.8026e-45,  0.0000e+00],\n",
       "         [ 0.0000e+00,  0.0000e+00,  0.0000e+00,  0.0000e+00,  2.8699e-40],\n",
       "         [ 0.0000e+00,  0.0000e+00,  0.0000e+00,         nan,         nan],\n",
       "         [ 0.0000e+00,  0.0000e+00,  5.3266e-39,  7.3470e-39,  1.0194e-38],\n",
       "         [ 1.0469e-38,  1.0010e-38,  8.9081e-39,  8.9082e-39,  5.9694e-39],\n",
       "         [ 8.9082e-39,  1.0194e-38,  9.1837e-39,  4.6837e-39,  6.2449e-39],\n",
       "         [ 6.9796e-39,  8.4490e-39,  1.1112e-38,  1.1020e-38,  8.9082e-39]]])"
      ]
     },
     "execution_count": 20,
     "metadata": {},
     "output_type": "execute_result"
    }
   ],
   "source": [
    "inputs"
   ]
  },
  {
   "cell_type": "code",
   "execution_count": 17,
   "metadata": {},
   "outputs": [
    {
     "data": {
      "text/plain": [
       "tensor([[[nan, nan, nan, nan, nan, nan, nan, nan]]], grad_fn=<StackBackward>)"
      ]
     },
     "execution_count": 17,
     "metadata": {},
     "output_type": "execute_result"
    }
   ],
   "source": [
    "_status"
   ]
  }
 ],
 "metadata": {
  "kernelspec": {
   "display_name": "Python 3.7.4 64-bit ('base': conda)",
   "language": "python",
   "name": "python37464bitbaseconda756085e274f94795b589d8766beee210"
  },
  "language_info": {
   "codemirror_mode": {
    "name": "ipython",
    "version": 3
   },
   "file_extension": ".py",
   "mimetype": "text/x-python",
   "name": "python",
   "nbconvert_exporter": "python",
   "pygments_lexer": "ipython3",
   "version": "3.7.7"
  }
 },
 "nbformat": 4,
 "nbformat_minor": 4
}
