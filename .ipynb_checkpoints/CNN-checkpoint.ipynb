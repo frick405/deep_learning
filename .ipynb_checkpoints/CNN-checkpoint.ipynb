{
 "cells": [
  {
   "cell_type": "code",
   "execution_count": 64,
   "metadata": {},
   "outputs": [],
   "source": [
    "import torch\n",
    "import torch.nn as nn\n",
    "import torch.optim as optim\n",
    "import torch.nn.init\n",
    "\n",
    "import pandas as pd\n",
    "import numpy as np\n",
    "import matplotlib.pyplot as plt\n",
    "\n",
    "import torchvision.datasets as dsets\n",
    "import torchvision.transforms as transforms\n",
    "\n",
    "from torch.utils.data import DataLoader"
   ]
  },
  {
   "cell_type": "code",
   "execution_count": 65,
   "metadata": {},
   "outputs": [],
   "source": [
    "device = 'cuda' if torch.cuda.is_available() else 'cpu'\n",
    "\n",
    "torch.manual_seed(777)\n",
    "\n",
    "if device == 'cuda':\n",
    "    torch.cuda.manual_seed_all(777)"
   ]
  },
  {
   "cell_type": "code",
   "execution_count": 66,
   "metadata": {},
   "outputs": [],
   "source": [
    "x = torch.Tensor(1, 1, 28, 28)"
   ]
  },
  {
   "cell_type": "code",
   "execution_count": 57,
   "metadata": {},
   "outputs": [],
   "source": [
    "cnn_model = nn.Sequential(nn.Conv2d(1, 32, 3, padding=1),\n",
    "                          nn.MaxPool2d(2),\n",
    "                          nn.Conv2d(32, 64, 3, padding=1),\n",
    "                          nn.MaxPool2d(2))\n",
    "\n",
    "fc_layer = nn.Sequential(nn.Linear(3136, 64),\n",
    "                        nn.ReLU(),\n",
    "                        nn.Dropout(),\n",
    "                        nn.Linear(64, 32),\n",
    "                        nn.ReLU(),\n",
    "                        nn.Linear(32, 10))"
   ]
  },
  {
   "cell_type": "code",
   "execution_count": 58,
   "metadata": {},
   "outputs": [],
   "source": [
    "out = cnn_model(x)\n",
    "out = out.view(out.size(0), - 1)\n",
    "\n",
    "out = fc_layer(out)"
   ]
  },
  {
   "cell_type": "markdown",
   "metadata": {},
   "source": [
    "### MNIST Training"
   ]
  },
  {
   "cell_type": "code",
   "execution_count": 218,
   "metadata": {},
   "outputs": [],
   "source": [
    "train_dset = dsets.MNIST('./MNIST_data', train=True, download=False, transform=transforms.ToTensor())\n",
    "test_dset = dsets.MNIST('./MNIST_data', train=False, download=False, transform=transforms.ToTensor())"
   ]
  },
  {
   "cell_type": "code",
   "execution_count": 219,
   "metadata": {},
   "outputs": [],
   "source": [
    "learning_rate = 0.001\n",
    "training_epochs = 15\n",
    "batch_size = 100"
   ]
  },
  {
   "cell_type": "code",
   "execution_count": 220,
   "metadata": {},
   "outputs": [
    {
     "data": {
      "text/plain": [
       "torch.Size([28, 28])"
      ]
     },
     "execution_count": 220,
     "metadata": {},
     "output_type": "execute_result"
    }
   ],
   "source": [
    "type(train_dset)\n",
    "train_data[0].shape"
   ]
  },
  {
   "cell_type": "code",
   "execution_count": 221,
   "metadata": {},
   "outputs": [
    {
     "data": {
      "text/plain": [
       "<matplotlib.image.AxesImage at 0x11016a6cb88>"
      ]
     },
     "execution_count": 221,
     "metadata": {},
     "output_type": "execute_result"
    },
    {
     "data": {
      "image/png": "[encoded data removed]",
      "text/plain": [
       "<Figure size 432x288 with 1 Axes>"
      ]
     },
     "metadata": {
      "needs_background": "light"
     },
     "output_type": "display_data"
    }
   ],
   "source": [
    "plt.imshow(train_data[0], cmap=plt.cm.gray)"
   ]
  },
  {
   "cell_type": "code",
   "execution_count": 222,
   "metadata": {},
   "outputs": [],
   "source": [
    "train_loader = DataLoader(train_dset, batch_size=batch_size, shuffle=True, drop_last=True)"
   ]
  },
  {
   "cell_type": "code",
   "execution_count": 223,
   "metadata": {},
   "outputs": [],
   "source": [
    "class CNN(nn.Module):\n",
    "    def __init__(self):\n",
    "        super(CNN, self).__init__()\n",
    "        self.layer_1 = nn.Sequential(nn.Conv2d(in_channels=1, out_channels=32, kernel_size=3, stride=1, padding=1),# batch * 28 * 28 * 32\n",
    "                                        nn.ReLU(),\n",
    "                                        nn.MaxPool2d(kernel_size=2, stride=2)# batch * 14 * 14 * 32)\n",
    "                               )\n",
    "        \n",
    "        self.layer_2 = nn.Sequential(nn.Conv2d(in_channels=32, out_channels=64, kernel_size=3, stride=1, padding=1),# batch * 14 * 14 * 64\n",
    "                                nn.ReLU(),\n",
    "                                nn.MaxPool2d(kernel_size=2, stride=2)# batch * 7 * 7 * 64\n",
    "                               )\n",
    "                \n",
    "        self.fc_layer = nn.Linear(7 * 7 * 64, 10)\n",
    "        \n",
    "        torch.nn.init.xavier_uniform_(self.fc_layer.weight)\n",
    "        \n",
    "    def forward(self, x):\n",
    "        out = self.layer_1(x)\n",
    "        out = self.layer_2(out)\n",
    "        out = out.view(out.size(0), -1) # batch_size * fully_connected(width * height * depth)\n",
    "        out = self.fc_layer(out)\n",
    "        \n",
    "        return out"
   ]
  },
  {
   "cell_type": "code",
   "execution_count": 224,
   "metadata": {},
   "outputs": [],
   "source": [
    "model = CNN().to(device)"
   ]
  },
  {
   "cell_type": "code",
   "execution_count": 225,
   "metadata": {},
   "outputs": [],
   "source": [
    "criterion = nn.CrossEntropyLoss().to(device)\n",
    "optimizer = optim.Adam(model.parameters(), lr=learning_rate)"
   ]
  },
  {
   "cell_type": "code",
   "execution_count": 226,
   "metadata": {},
   "outputs": [
    {
     "name": "stdout",
     "output_type": "stream",
     "text": [
      "전체 배치의 크기: 600\n"
     ]
    }
   ],
   "source": [
    "print(f'전체 배치의 크기: {len(train_loader)}')"
   ]
  },
  {
   "cell_type": "code",
   "execution_count": 240,
   "metadata": {},
   "outputs": [
    {
     "name": "stdout",
     "output_type": "stream",
     "text": [
      "Epoch: 0, Avg Loss: 0.0054581547155976295\n",
      "Epoch: 1, Avg Loss: 0.0010749431094154716\n",
      "Epoch: 2, Avg Loss: 0.00042542265146039426\n",
      "Epoch: 3, Avg Loss: 0.0020372008439153433\n",
      "Epoch: 4, Avg Loss: 0.002701005432754755\n",
      "Epoch: 5, Avg Loss: 0.0020568992476910353\n",
      "Epoch: 6, Avg Loss: 0.0014301178744062781\n",
      "Epoch: 7, Avg Loss: 0.002839067718014121\n",
      "Epoch: 8, Avg Loss: 0.0018604669021442533\n",
      "Epoch: 9, Avg Loss: 0.0012052253587171435\n",
      "Epoch: 10, Avg Loss: 0.0017620924627408385\n",
      "Epoch: 11, Avg Loss: 0.001455016084946692\n",
      "Epoch: 12, Avg Loss: 0.0009418167173862457\n",
      "Epoch: 13, Avg Loss: 0.0019011694239452481\n",
      "Epoch: 14, Avg Loss: 0.0024381487164646387\n"
     ]
    }
   ],
   "source": [
    "for epoch in range(training_epochs):\n",
    "    avg_cost = 0\n",
    "    \n",
    "    for x, y in train_loader:\n",
    "        x, y = x.to(device), y.to(device)\n",
    "        optimizer.zero_grad()\n",
    "        \n",
    "        prediction = model(x)\n",
    "        \n",
    "        loss = criterion(prediction, y)\n",
    "        \n",
    "        loss.backward()\n",
    "        \n",
    "        optimizer.step()\n",
    "        \n",
    "        avg_cost += loss / len(train_loader)\n",
    "    \n",
    "    print(f'Epoch: {epoch}, Avg Loss: {avg_cost}')"
   ]
  },
  {
   "cell_type": "code",
   "execution_count": 263,
   "metadata": {},
   "outputs": [
    {
     "name": "stdout",
     "output_type": "stream",
     "text": [
      "tensor(0.9873, device='cuda:0')\n"
     ]
    }
   ],
   "source": [
    "with torch.no_grad():\n",
    "    x_test = test_dset.test_data.view(len(test_dset), 1, 28, 28).float().to(device)\n",
    "    y_test = test_dset.test_labels.to(device)\n",
    "    \n",
    "    prediction = model(x_test)\n",
    "    correct = torch.argmax(prediction, 1) == y_test\n",
    "    accuracy = correct.float().mean()\n",
    "    print(accuracy)"
   ]
  },
  {
   "cell_type": "code",
   "execution_count": null,
   "metadata": {},
   "outputs": [],
   "source": []
  },
  {
   "cell_type": "markdown",
   "metadata": {},
   "source": [
    "### DeepCNN"
   ]
  },
  {
   "cell_type": "code",
   "execution_count": 318,
   "metadata": {},
   "outputs": [],
   "source": [
    "train_dset = dsets.MNIST('./MNIST_data/', download=False, train=True, transform=transforms.ToTensor())\n",
    "test_dset = dsets.MNIST('./MNIST_data/', download=False, train=False, transform=transforms.ToTensor())"
   ]
  },
  {
   "cell_type": "code",
   "execution_count": 319,
   "metadata": {},
   "outputs": [],
   "source": [
    "batch_size = 100\n",
    "training_epoch = 15\n",
    "learning_rate = 0.01"
   ]
  },
  {
   "cell_type": "code",
   "execution_count": 323,
   "metadata": {},
   "outputs": [],
   "source": [
    "train_loader = DataLoader(train_dset, batch_size=batch_size, shuffle=True, drop_last=True)"
   ]
  },
  {
   "cell_type": "code",
   "execution_count": 324,
   "metadata": {},
   "outputs": [],
   "source": [
    "class DeepCNN(nn.Module):\n",
    "    def __init__(self):\n",
    "        super().__init__()\n",
    "        \n",
    "        self.cnn_layer_1 = nn.Sequential(nn.Conv2d(1, 32, kernel_size=3, stride=1, padding=1),\n",
    "                                        nn.ReLU(),\n",
    "                                         nn.MaxPool2d(kernel_size=2, stride=2)\n",
    "                                        ) # ? 14 * 14 * 32 \n",
    "        \n",
    "        self.cnn_layer_2 = nn.Sequential(nn.Conv2d(32, 64, kernel_size=3, stride=1, padding=1),\n",
    "                                        nn.ReLU(),\n",
    "                                         nn.MaxPool2d(kernel_size=2, stride=2)\n",
    "                                        ) # ? 7 * 7 * 64\n",
    "        \n",
    "        self.cnn_layer_3 = nn.Sequential(nn.Conv2d(64, 128, kernel_size=3, stride=1, padding=1),\n",
    "                                        nn.ReLU(),\n",
    "                                         nn.MaxPool2d(kernel_size=2, stride=2, padding=1)\n",
    "                                        ) # ? 4 * 4 * 128\n",
    "        \n",
    "        self.fc = nn.Linear(4 * 4 * 128, 256)\n",
    "        torch.nn.init.xavier_uniform_(self.fc.weight)\n",
    "        \n",
    "        self.fc_layer_1 = nn.Sequential(self.fc,\n",
    "                                        nn.ReLU(),\n",
    "                                        nn.Dropout(0.5))\n",
    "        self.fc2 = nn.Linear(256, 10)\n",
    "        torch.nn.init.xavier_uniform_(self.fc2.weight)\n",
    "        \n",
    "    def forward(self, x):\n",
    "        out = self.cnn_layer_1(x)\n",
    "        out = self.cnn_layer_2(out)\n",
    "        out = self.cnn_layer_3(out)\n",
    "        \n",
    "        out = out.view(out.size(0), -1)\n",
    "        \n",
    "        out = self.fc_layer_1(out)\n",
    "        out = self.fc2(out)\n",
    "        \n",
    "        return out"
   ]
  },
  {
   "cell_type": "code",
   "execution_count": 325,
   "metadata": {},
   "outputs": [],
   "source": [
    "model = DeepCNN().to(device)\n",
    "\n",
    "criterion = nn.CrossEntropyLoss().to(device)\n",
    "optimizer = optim.Adam(model.parameters(), lr=learning_rate)"
   ]
  },
  {
   "cell_type": "code",
   "execution_count": 326,
   "metadata": {},
   "outputs": [
    {
     "name": "stdout",
     "output_type": "stream",
     "text": [
      "Epoch: 0, Loss:0.14056551456451416\n",
      "Epoch: 1, Loss:0.11406157165765762\n",
      "Epoch: 2, Loss:0.07350924611091614\n",
      "Epoch: 3, Loss:0.11954648792743683\n",
      "Epoch: 4, Loss:0.20781439542770386\n",
      "Epoch: 5, Loss:0.14893697202205658\n",
      "Epoch: 6, Loss:0.04176359623670578\n",
      "Epoch: 7, Loss:0.17043006420135498\n",
      "Epoch: 8, Loss:0.3174457848072052\n",
      "Epoch: 9, Loss:0.07870926707983017\n",
      "Epoch: 10, Loss:0.06635156273841858\n",
      "Epoch: 11, Loss:0.18201236426830292\n",
      "Epoch: 12, Loss:0.021916812285780907\n",
      "Epoch: 13, Loss:0.0273324865847826\n",
      "Epoch: 14, Loss:0.040160343050956726\n"
     ]
    }
   ],
   "source": [
    "for epoch in range(training_epoch):\n",
    "    for x, y in train_loader:\n",
    "        x, y = x.to(device), y.to(device)\n",
    "        optimizer.zero_grad()\n",
    "        \n",
    "        prediction = model(x)\n",
    "        \n",
    "        loss = criterion(prediction, y)\n",
    "        \n",
    "        loss.backward()\n",
    "        \n",
    "        optimizer.step()\n",
    "        \n",
    "    print(f'Epoch: {epoch}, Loss:{loss}')"
   ]
  },
  {
   "cell_type": "code",
   "execution_count": 327,
   "metadata": {},
   "outputs": [
    {
     "name": "stdout",
     "output_type": "stream",
     "text": [
      "tensor(0.8031, device='cuda:0')\n"
     ]
    }
   ],
   "source": [
    "with torch.no_grad():\n",
    "    x = test_dset.data.view(len(test_dset), 1, 28, 28).float().to(device)\n",
    "    y = test_dset.targets.to(device)\n",
    "    \n",
    "    prediction = model(x)\n",
    "    \n",
    "    accuracy = (torch.argmax(prediction, dim=1) == y).float().mean()\n",
    "    \n",
    "    print(accuracy)"
   ]
  },
  {
   "cell_type": "code",
   "execution_count": null,
   "metadata": {},
   "outputs": [],
   "source": []
  }
 ],
 "metadata": {
  "kernelspec": {
   "display_name": "Python 3.7.4 64-bit ('base': conda)",
   "language": "python",
   "name": "python37464bitbaseconda756085e274f94795b589d8766beee210"
  },
  "language_info": {
   "codemirror_mode": {
    "name": "ipython",
    "version": 3
   },
   "file_extension": ".py",
   "mimetype": "text/x-python",
   "name": "python",
   "nbconvert_exporter": "python",
   "pygments_lexer": "ipython3",
   "version": "3.7.7"
  }
 },
 "nbformat": 4,
 "nbformat_minor": 4
}
